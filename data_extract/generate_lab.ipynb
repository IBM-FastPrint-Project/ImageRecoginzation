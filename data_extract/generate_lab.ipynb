{
 "cells": [
  {
   "cell_type": "code",
   "execution_count": 1,
   "metadata": {},
   "outputs": [],
   "source": [
    "# !cd data/ && pdftohtml -c -hidden -xml gdd.pdf gdd.pdf"
   ]
  },
  {
   "cell_type": "code",
   "execution_count": 2,
   "metadata": {},
   "outputs": [],
   "source": [
    "# !ls -1 data/"
   ]
  },
  {
   "cell_type": "code",
   "execution_count": 3,
   "metadata": {},
   "outputs": [],
   "source": [
    "# !head -n 30 data/gdd.pdf.xml"
   ]
  },
  {
   "cell_type": "code",
   "execution_count": 4,
   "metadata": {},
   "outputs": [],
   "source": [
    "DATAPATH = 'data/'\n",
    "OUTPUTPATH = 'generated_output/'\n",
    "# INPUT_XML = 'gdd.pdf.xml'\n",
    "INPUT_IMG = '尺寸012Gerber 文件.jpg'"
   ]
  },
  {
   "cell_type": "code",
   "execution_count": 5,
   "metadata": {},
   "outputs": [],
   "source": [
    "# import os\n",
    "# from pdftabextract.common import read_xml, parse_pages\n",
    "\n",
    "# # Load the XML that was generated with pdftohtml\n",
    "# xmltree, xmlroot = read_xml(os.path.join(DATAPATH, INPUT_XML))\n",
    "\n",
    "# # parse it and generate a dict of pages\n",
    "# pages = parse_pages(xmlroot)"
   ]
  },
  {
   "cell_type": "code",
   "execution_count": 6,
   "metadata": {},
   "outputs": [],
   "source": [
    "# pages"
   ]
  },
  {
   "cell_type": "code",
   "execution_count": 7,
   "metadata": {},
   "outputs": [],
   "source": [
    "# xmltree, xmlroot"
   ]
  },
  {
   "cell_type": "code",
   "execution_count": 8,
   "metadata": {},
   "outputs": [],
   "source": [
    "# from pprint import pprint\n",
    "\n",
    "# p_num = 1\n",
    "# p = pages[p_num]\n",
    "\n",
    "# print('number', p['number'])\n",
    "# print('width', p['width'])\n",
    "# print('height', p['height'])\n",
    "# print('image', p['image'])\n",
    "# print('the first three text boxes:')\n",
    "# pprint(p['texts'][:3])"
   ]
  },
  {
   "cell_type": "code",
   "execution_count": 9,
   "metadata": {},
   "outputs": [],
   "source": [
    "import os\n",
    "input_img_path = os.path.join(DATAPATH, INPUT_IMG)"
   ]
  },
  {
   "cell_type": "code",
   "execution_count": 10,
   "metadata": {},
   "outputs": [
    {
     "data": {
      "text/plain": [
       "(2543, 1462)"
      ]
     },
     "execution_count": 10,
     "metadata": {},
     "output_type": "execute_result"
    }
   ],
   "source": [
    "import cv2\n",
    "image = cv2.imread(input_img_path)\n",
    "width,height,_ = image.shape\n",
    "width,height"
   ]
  },
  {
   "cell_type": "code",
   "execution_count": 11,
   "metadata": {},
   "outputs": [],
   "source": [
    "import numpy as np\n",
    "from pdftabextract import imgproc\n",
    "\n",
    "# get the image file of the scanned page\n",
    "# imgfilebasename = p['image'][:p['image'].rindex('.')]\n",
    "imgfile = os.path.join(DATAPATH, INPUT_IMG)\n",
    "\n",
    "# print(\"page %d: detecting lines in image file '%s'...\" % (p_num, imgfile))\n",
    "\n",
    "# create an image processing object with the scanned page\n",
    "iproc_obj = imgproc.ImageProc(imgfile)\n"
   ]
  },
  {
   "cell_type": "code",
   "execution_count": 12,
   "metadata": {},
   "outputs": [
    {
     "name": "stdout",
     "output_type": "stream",
     "text": [
      "> found 80 lines\n"
     ]
    }
   ],
   "source": [
    "# calculate the scaling of the image file in relation to the text boxes coordinate system dimensions\n",
    "page_scaling_x = iproc_obj.img_w / width   # scaling in X-direction\n",
    "page_scaling_y = iproc_obj.img_h / height # scaling in Y-direction\n",
    "\n",
    "# detect the lines\n",
    "lines_hough = iproc_obj.detect_lines(canny_kernel_size=3, canny_low_thresh=50, canny_high_thresh=150,\n",
    "                                     hough_rho_res=1,\n",
    "                                     hough_theta_res=np.pi/500,\n",
    "                                     hough_votes_thresh=round(0.2 * iproc_obj.img_w))\n",
    "print(\"> found %d lines\" % len(lines_hough))"
   ]
  },
  {
   "cell_type": "code",
   "execution_count": 13,
   "metadata": {
    "scrolled": true
   },
   "outputs": [
    {
     "data": {
      "text/plain": [
       "[(1042.0, 0.0, 0.0, 'v'),\n",
       " (84.0, 0.0, 0.0, 'v'),\n",
       " (1038.0, 0.0, 0.0, 'v'),\n",
       " (88.0, 0.0, 0.0, 'v'),\n",
       " (987.0, 0.0, 0.0, 'v'),\n",
       " (1150.0, 0.0, 0.0, 'v'),\n",
       " (1154.0, 0.0, 0.0, 'v'),\n",
       " (137.0, 0.0, 0.0, 'v'),\n",
       " (984.0, 0.0, 0.0, 'v'),\n",
       " (144.0, 0.0, 0.0, 'v'),\n",
       " (565.0, 0.0, 0.0, 'v'),\n",
       " (561.0, 0.0, 0.0, 'v'),\n",
       " (2470.0, 1.5707964, 1.5707964, 'h'),\n",
       " (576.0, 1.5707964, 1.5707964, 'h'),\n",
       " (580.0, 1.5707964, 1.5707964, 'h'),\n",
       " (690.0, 1.5707964, 1.5707964, 'h'),\n",
       " (687.0, 1.5707964, 1.5707964, 'h'),\n",
       " (2037.0, 1.5707964, 1.5707964, 'h'),\n",
       " (1120.0, 1.5707964, 1.5707964, 'h'),\n",
       " (2020.0, 1.5707964, 1.5707964, 'h'),\n",
       " (2040.0, 1.5707964, 1.5707964, 'h'),\n",
       " (1137.0, 1.5707964, 1.5707964, 'h'),\n",
       " (2016.0, 1.5707964, 1.5707964, 'h'),\n",
       " (1140.0, 1.5707964, 1.5707964, 'h'),\n",
       " (1115.0, 1.5707964, 1.5707964, 'h'),\n",
       " (2465.0, 1.5707964, 1.5707964, 'h'),\n",
       " (1566.0, 1.5707964, 1.5707964, 'h'),\n",
       " (1570.0, 1.5707964, 1.5707964, 'h'),\n",
       " (1590.0, 1.5707964, 1.5707964, 'h'),\n",
       " (124.0, 1.5707964, 1.5707964, 'h'),\n",
       " (648.0, 0.0, 0.0, 'v'),\n",
       " (1586.0, 1.5707964, 1.5707964, 'h'),\n",
       " (224.0, 1.5707964, 1.5707964, 'h'),\n",
       " (225.0, 0.0, 0.0, 'v'),\n",
       " (128.0, 1.5707964, 1.5707964, 'h'),\n",
       " (652.0, 0.0, 0.0, 'v'),\n",
       " (229.0, 0.0, 0.0, 'v'),\n",
       " (-132.0, 3.1353095, 3.1353095, 'v'),\n",
       " (152.0, 0.0062831854, 0.0062831854, 'v'),\n",
       " (220.0, 1.5707964, 1.5707964, 'h'),\n",
       " (573.0, 0.0062831854, 0.0062831854, 'v'),\n",
       " (-553.0, 3.1353095, 3.1353095, 'v'),\n",
       " (142.0, 0.0, 0.0, 'v'),\n",
       " (692.0, 1.5645132, 1.5645132, 'h'),\n",
       " (155.0, 1.5707964, 1.5707964, 'h'),\n",
       " (195.0, 1.5707964, 1.5707964, 'h'),\n",
       " (-1141.0, 3.1353095, 3.1353095, 'v'),\n",
       " (996.0, 0.0062831854, 0.0062831854, 'v'),\n",
       " (685.0, 1.5770795, 1.5770795, 'h'),\n",
       " (-976.0, 3.1353095, 3.1353095, 'v'),\n",
       " (992.0, 0.0062831854, 0.0062831854, 'v'),\n",
       " (-1033.0, 3.1353095, 3.1353095, 'v'),\n",
       " (-974.0, 3.1353095, 3.1353095, 'v'),\n",
       " (1161.0, 0.0062831854, 0.0062831854, 'v'),\n",
       " (159.0, 1.5707964, 1.5707964, 'h'),\n",
       " (-1143.0, 3.1353095, 3.1353095, 'v'),\n",
       " (-972.0, 3.1353095, 3.1353095, 'v'),\n",
       " (1135.0, 1.5770795, 1.5770795, 'h'),\n",
       " (2035.0, 1.5770795, 1.5770795, 'h'),\n",
       " (1163.0, 0.0062831854, 0.0062831854, 'v'),\n",
       " (-978.0, 3.1353095, 3.1353095, 'v'),\n",
       " (1051.0, 0.0062831854, 0.0062831854, 'v'),\n",
       " (998.0, 0.0062831854, 0.0062831854, 'v'),\n",
       " (1142.0, 1.5645132, 1.5645132, 'h'),\n",
       " (2042.0, 1.5645132, 1.5645132, 'h'),\n",
       " (94.0, 0.0062831854, 0.0062831854, 'v'),\n",
       " (-79.0, 3.1353095, 3.1353095, 'v'),\n",
       " (96.0, 0.0062831854, 0.0062831854, 'v'),\n",
       " (1047.0, 0.0062831854, 0.0062831854, 'v'),\n",
       " (-73.0, 3.1353095, 3.1353095, 'v'),\n",
       " (-76.0, 3.1353095, 3.1353095, 'v'),\n",
       " (150.0, 0.0062831854, 0.0062831854, 'v'),\n",
       " (660.0, 0.0062831854, 0.0062831854, 'v'),\n",
       " (-640.0, 3.1353095, 3.1353095, 'v'),\n",
       " (574.0, 1.5770795, 1.5770795, 'h'),\n",
       " (576.0, 0.0062831854, 0.0062831854, 'v'),\n",
       " (582.0, 1.5645132, 1.5645132, 'h'),\n",
       " (2472.0, 1.5645132, 1.5645132, 'h'),\n",
       " (2463.0, 1.5770795, 1.5770795, 'h'),\n",
       " (-556.0, 3.1353095, 3.1353095, 'v')]"
      ]
     },
     "execution_count": 13,
     "metadata": {},
     "output_type": "execute_result"
    }
   ],
   "source": [
    "lines_hough"
   ]
  },
  {
   "cell_type": "code",
   "execution_count": 14,
   "metadata": {},
   "outputs": [],
   "source": [
    "import cv2\n",
    "\n",
    "# helper function to save an image \n",
    "def save_image_w_lines(iproc_obj, imgfilebasename):\n",
    "    img_lines = iproc_obj.draw_lines(orig_img_as_background=True)\n",
    "    img_lines_file = os.path.join(OUTPUTPATH, '%s-lines-orig.png' % imgfilebasename)\n",
    "    \n",
    "    print(\"> saving image with detected lines to '%s'\" % img_lines_file)\n",
    "    cv2.imwrite(img_lines_file, img_lines)"
   ]
  },
  {
   "cell_type": "code",
   "execution_count": 15,
   "metadata": {},
   "outputs": [
    {
     "name": "stdout",
     "output_type": "stream",
     "text": [
      "> saving image with detected lines to 'generated_output/尺寸012Gerber 文件.jpg-lines-orig.png'\n"
     ]
    }
   ],
   "source": [
    "save_image_w_lines(iproc_obj, INPUT_IMG)"
   ]
  },
  {
   "cell_type": "code",
   "execution_count": 16,
   "metadata": {},
   "outputs": [
    {
     "name": "stdout",
     "output_type": "stream",
     "text": [
      "> found 8 vertical clusters\n",
      "> found 11 horizontal clusters\n"
     ]
    },
    {
     "data": {
      "text/plain": [
       "True"
      ]
     },
     "execution_count": 16,
     "metadata": {},
     "output_type": "execute_result"
    }
   ],
   "source": [
    "from pdftabextract.clustering import find_clusters_1d_break_dist\n",
    "\n",
    "MIN_COL_WIDTH = 30 # minimum width of a column in pixels, measured in the scanned pages\n",
    "\n",
    "# cluster the detected *vertical* lines using find_clusters_1d_break_dist as simple clustering function\n",
    "# (break on distance MIN_COL_WIDTH/2)\n",
    "# additionally, remove all cluster sections that are considered empty\n",
    "# a cluster is considered empty when the number of text boxes in it is below 10% of the median number of text boxes\n",
    "# per cluster section\n",
    "\n",
    "vertical_clusters = iproc_obj.find_clusters(imgproc.DIRECTION_VERTICAL, find_clusters_1d_break_dist,\n",
    "#                                             remove_empty_cluster_sections_use_texts=p['texts'], # use this page's textboxes\n",
    "#                                             remove_empty_cluster_sections_n_texts_ratio=0.1,    # 10% rule\n",
    "#                                             remove_empty_cluster_sections_scaling=page_scaling_x,  # the positions are in \"scanned image space\" -> we scale them to \"text box space\"\n",
    "                                            dist_thresh=MIN_COL_WIDTH/2)\n",
    "print(\"> found %d vertical clusters\" % len(vertical_clusters))\n",
    "img_v_clusters = iproc_obj.draw_line_clusters(imgproc.DIRECTION_VERTICAL, vertical_clusters)\n",
    "save_img_v_file = os.path.join(OUTPUTPATH, '%s-vertical-clusters.png' % INPUT_IMG)\n",
    "cv2.imwrite(save_img_v_file, img_v_clusters)\n",
    "\n",
    "\n",
    "horizontal_clusters = iproc_obj.find_clusters(imgproc.DIRECTION_HORIZONTAL, find_clusters_1d_break_dist,\n",
    "#                                             remove_empty_cluster_sections_use_texts=p['texts'], # use this page's textboxes\n",
    "#                                             remove_empty_cluster_sections_n_texts_ratio=0.1,    # 10% rule\n",
    "#                                             remove_empty_cluster_sections_scaling=page_scaling_x,  # the positions are in \"scanned image space\" -> we scale them to \"text box space\"\n",
    "                                            dist_thresh=MIN_COL_WIDTH/2)\n",
    "print(\"> found %d horizontal clusters\" % len(horizontal_clusters))\n",
    "img_h_clusters = iproc_obj.draw_line_clusters(imgproc.DIRECTION_HORIZONTAL, horizontal_clusters)\n",
    "save_img_h_file = os.path.join(OUTPUTPATH, '%s-horizontal-clusters.png' % INPUT_IMG)\n",
    "cv2.imwrite(save_img_h_file, img_h_clusters)\n"
   ]
  },
  {
   "cell_type": "code",
   "execution_count": 17,
   "metadata": {},
   "outputs": [
    {
     "name": "stdout",
     "output_type": "stream",
     "text": [
      "found 8 column borders:\n",
      "[  84.  143.  227.  563.  650.  984. 1042. 1152.]\n",
      "found 11 raw borders:\n",
      "[ 126.00005558  157.00005558  195.00005558  222.00005558  578.00005558\n",
      "  688.50005558 1135.51676016 1568.00005558 1588.00005558 2035.52562435\n",
      " 2467.50005558]\n"
     ]
    }
   ],
   "source": [
    "from pdftabextract.clustering import calc_cluster_centers_1d\n",
    "\n",
    "vertical = np.array(calc_cluster_centers_1d(vertical_clusters)) #/ page_scaling_x\n",
    "horizontal = np.array(calc_cluster_centers_1d(horizontal_clusters)) #/ page_scaling_y\n",
    "print('found %d column borders:' % len(vertical))\n",
    "print(vertical)\n",
    "print('found %d raw borders:' % len(horizontal))\n",
    "print(horizontal)"
   ]
  },
  {
   "cell_type": "code",
   "execution_count": 18,
   "metadata": {},
   "outputs": [
    {
     "data": {
      "text/plain": [
       "True"
      ]
     },
     "execution_count": 18,
     "metadata": {},
     "output_type": "execute_result"
    }
   ],
   "source": [
    "for v in vertical:\n",
    "    cv2.line(image,(int(v),1),(int(v),width),(0,0,255),1)\n",
    "for h in horizontal:\n",
    "    cv2.line(image,(1,int(h)),(height,int(h)),(0,255,0),1)\n",
    "\n",
    "save_img_file = os.path.join(OUTPUTPATH, '%s_lines.png' % INPUT_IMG)\n",
    "cv2.imwrite(save_img_file, image)"
   ]
  },
  {
   "cell_type": "markdown",
   "metadata": {},
   "source": [
    "提取文字如下："
   ]
  },
  {
   "cell_type": "code",
   "execution_count": 19,
   "metadata": {},
   "outputs": [],
   "source": [
    "from PIL import Image\n",
    "import pytesseract\n",
    "import argparse\n",
    "import cv2\n",
    "import os\n",
    " \n",
    "# construct the argument parse and parse the arguments\n",
    "# ap = argparse.ArgumentParser()\n",
    "# ap.add_argument(\"-i\", \"--image\", required=True,help=\"path to input image to be OCR'd\")\n",
    "# ap.add_argument(\"-p\", \"--preprocess\", type=str, default=\"thresh\",help=\"type of preprocessing to be done\")\n",
    "# args = vars(ap.parse_args())"
   ]
  },
  {
   "cell_type": "code",
   "execution_count": 20,
   "metadata": {},
   "outputs": [],
   "source": [
    "# load the example image and convert it to grayscale\n",
    "# image = cv2.imread(input_img_path)\n",
    "gray = cv2.cvtColor(image, cv2.COLOR_BGR2GRAY)\n",
    " \n",
    "# # check to see if we should apply thresholding to preprocess the\n",
    "# # image\n",
    "# if args[\"preprocess\"] == \"thresh\":\n",
    "#     gray = cv2.threshold(gray, 0, 255,cv2.THRESH_BINARY | cv2.THRESH_OTSU)[1]\n",
    " \n",
    "# # make a check to see if median blurring should be done to remove\n",
    "# # noise\n",
    "# elif args[\"preprocess\"] == \"blur\":\n",
    "#     gray = cv2.medianBlur(gray, 3)\n",
    " \n",
    "# write the grayscale image to disk as a temporary file so we can\n",
    "# apply OCR to it\n",
    "\n",
    "# cv2.imwrite(os.path.join(input_img_path +'_gray.png'), gray)"
   ]
  },
  {
   "cell_type": "code",
   "execution_count": 21,
   "metadata": {},
   "outputs": [
    {
     "data": {
      "text/plain": [
       "\"36 to 45\\n\\nI/I/I/I/I/IlE'I/II/Illlll'll\\n\\nAZﬂﬁZZZﬂZZQZZQZZQZZQZI\\nIIIIIIIIIIIA'A llA’I/Illlll/I\\n\\nV-cuf Detail\\n\\n \\n\\n \\n \\n   \\n\\n \\n\\n-ﬁ.\\n\\n \\n\\n \\n\\n \\n\\n \\n\\n \\n\\n   \\n\\n \\n\\n \\n\\n \\n\\n \\n\\n \\n\\n \\n\\n \\n\\n \\n\\n \\n\\n \\n\\n167.?\""
      ]
     },
     "execution_count": 21,
     "metadata": {},
     "output_type": "execute_result"
    }
   ],
   "source": [
    "# load the image as a PIL/Pillow image, apply OCR, and then delete\n",
    "# the temporary file\n",
    "\n",
    "text = pytesseract.image_to_string(gray)\n",
    "text\n",
    "\n"
   ]
  },
  {
   "cell_type": "markdown",
   "metadata": {},
   "source": [
    "提取示意图如下："
   ]
  },
  {
   "cell_type": "code",
   "execution_count": 22,
   "metadata": {},
   "outputs": [],
   "source": [
    "image = cv2.imread(input_img_path)\n",
    "gray = cv2.cvtColor(image, cv2.COLOR_BGR2GRAY)\n"
   ]
  },
  {
   "cell_type": "code",
   "execution_count": 23,
   "metadata": {},
   "outputs": [
    {
     "data": {
      "text/plain": [
       "(2543, 1462)"
      ]
     },
     "execution_count": 23,
     "metadata": {},
     "output_type": "execute_result"
    }
   ],
   "source": [
    "gray.shape"
   ]
  },
  {
   "cell_type": "code",
   "execution_count": 24,
   "metadata": {},
   "outputs": [
    {
     "data": {
      "text/plain": [
       "<matplotlib.image.AxesImage at 0x1a23bc1240>"
      ]
     },
     "execution_count": 24,
     "metadata": {},
     "output_type": "execute_result"
    }
   ],
   "source": [
    "# cv2.imshow('image',image)\n",
    "from matplotlib import pyplot as plt\n",
    "plt.imshow(gray)"
   ]
  },
  {
   "cell_type": "code",
   "execution_count": 25,
   "metadata": {},
   "outputs": [],
   "source": [
    "im = gray/225"
   ]
  },
  {
   "cell_type": "code",
   "execution_count": 26,
   "metadata": {},
   "outputs": [],
   "source": [
    "datas = []\n",
    "lables = []\n",
    "for i in range(width):\n",
    "    for j in range(height):\n",
    "        label = im[i][j]\n",
    "        if label > 0.5:\n",
    "            datas.append([j,i])\n",
    "            lables.append(1)"
   ]
  },
  {
   "cell_type": "code",
   "execution_count": 27,
   "metadata": {},
   "outputs": [
    {
     "data": {
      "text/plain": [
       "55333"
      ]
     },
     "execution_count": 27,
     "metadata": {},
     "output_type": "execute_result"
    }
   ],
   "source": [
    "len(datas)"
   ]
  },
  {
   "cell_type": "code",
   "execution_count": 28,
   "metadata": {},
   "outputs": [],
   "source": [
    "from sklearn.cluster import MiniBatchKMeans, KMeans, SpectralClustering"
   ]
  },
  {
   "cell_type": "code",
   "execution_count": 29,
   "metadata": {},
   "outputs": [],
   "source": [
    "# spectral_cluster = SpectralClustering(n_clusters=2,\n",
    "#                                                       assign_labels=\"discretize\",\n",
    "#                                                       random_state=0)\n",
    "# pred = spectral_cluster.fit_predict(datas)"
   ]
  },
  {
   "cell_type": "code",
   "execution_count": 30,
   "metadata": {},
   "outputs": [],
   "source": [
    "k_means = KMeans(init='k-means++', n_clusters=2, n_init=10)\n",
    "pred = k_means.fit_predict(datas)"
   ]
  },
  {
   "cell_type": "code",
   "execution_count": 31,
   "metadata": {},
   "outputs": [],
   "source": [
    "x_data = []\n",
    "y_data = []\n",
    "color = []\n",
    "choose_colors = ['#4EACC5', '#FF9C34','#EEFFBB','#DDFF77','#CCFF33','#668800']\n",
    "for i in range(len(pred)):\n",
    "#     pred[i]\n",
    "    x,y = datas[i]\n",
    "    x_data.append(x)\n",
    "    y_data.append(y)\n",
    "    color.append(choose_colors[pred[i]])"
   ]
  },
  {
   "cell_type": "code",
   "execution_count": 32,
   "metadata": {},
   "outputs": [
    {
     "data": {
      "text/plain": [
       "<function matplotlib.pyplot.show(*args, **kw)>"
      ]
     },
     "execution_count": 32,
     "metadata": {},
     "output_type": "execute_result"
    },
    {
     "data": {
      "image/png": "[encoded data removed]",
      "text/plain": [
       "<Figure size 432x288 with 1 Axes>"
      ]
     },
     "metadata": {},
     "output_type": "display_data"
    }
   ],
   "source": [
    "plt.scatter(x_data, y_data, color = color)\n",
    "plt.show"
   ]
  },
  {
   "cell_type": "code",
   "execution_count": 33,
   "metadata": {},
   "outputs": [],
   "source": [
    "#使用扩展像素+联通判断！"
   ]
  },
  {
   "cell_type": "code",
   "execution_count": 34,
   "metadata": {},
   "outputs": [
    {
     "data": {
      "text/plain": [
       "<matplotlib.image.AxesImage at 0x113622390>"
      ]
     },
     "execution_count": 34,
     "metadata": {},
     "output_type": "execute_result"
    },
    {
     "data": {
      "image/png": "[encoded data removed]",
      "text/plain": [
       "<Figure size 432x288 with 1 Axes>"
      ]
     },
     "metadata": {},
     "output_type": "display_data"
    }
   ],
   "source": [
    "#方案1 画圈圈\n",
    "extend_size = 40\n",
    "\n",
    "img_out = np.zeros(image.shape, np.uint8) # Create a black image\n",
    "for data in datas:\n",
    "    img_out = cv2.circle(img_out, tuple(data), extend_size, (0,0,255), -1)\n",
    "    \n",
    "plt.imshow(img_out)"
   ]
  },
  {
   "cell_type": "code",
   "execution_count": 39,
   "metadata": {},
   "outputs": [
    {
     "data": {
      "text/plain": [
       "(2543, 1462, 3)"
      ]
     },
     "execution_count": 39,
     "metadata": {},
     "output_type": "execute_result"
    }
   ],
   "source": [
    "img_out.shape"
   ]
  },
  {
   "cell_type": "code",
   "execution_count": 40,
   "metadata": {},
   "outputs": [
    {
     "ename": "error",
     "evalue": "OpenCV(3.4.3) /Users/travis/build/skvark/opencv-python/opencv/modules/imgproc/src/connectedcomponents.cpp:3927: error: (-215:Assertion failed) L.channels() == 1 && I.channels() == 1 in function 'connectedComponents_sub1'\n",
     "output_type": "error",
     "traceback": [
      "\u001b[0;31m---------------------------------------------------------------------------\u001b[0m",
      "\u001b[0;31merror\u001b[0m                                     Traceback (most recent call last)",
      "\u001b[0;32m<ipython-input-40-d1cc47c93956>\u001b[0m in \u001b[0;36m<module>\u001b[0;34m()\u001b[0m\n\u001b[1;32m      1\u001b[0m \u001b[0;34m\u001b[0m\u001b[0m\n\u001b[1;32m      2\u001b[0m \u001b[0mimg_out\u001b[0m \u001b[0;34m=\u001b[0m \u001b[0mcv2\u001b[0m\u001b[0;34m.\u001b[0m\u001b[0mthreshold\u001b[0m\u001b[0;34m(\u001b[0m\u001b[0mimg_out\u001b[0m\u001b[0;34m,\u001b[0m \u001b[0;36m127\u001b[0m\u001b[0;34m,\u001b[0m \u001b[0;36m255\u001b[0m\u001b[0;34m,\u001b[0m \u001b[0mcv2\u001b[0m\u001b[0;34m.\u001b[0m\u001b[0mTHRESH_BINARY\u001b[0m\u001b[0;34m)\u001b[0m\u001b[0;34m[\u001b[0m\u001b[0;36m1\u001b[0m\u001b[0;34m]\u001b[0m  \u001b[0;31m# ensure binary\u001b[0m\u001b[0;34m\u001b[0m\u001b[0m\n\u001b[0;32m----> 3\u001b[0;31m \u001b[0mret\u001b[0m\u001b[0;34m,\u001b[0m \u001b[0mlabels\u001b[0m \u001b[0;34m=\u001b[0m \u001b[0mcv2\u001b[0m\u001b[0;34m.\u001b[0m\u001b[0mconnectedComponents\u001b[0m\u001b[0;34m(\u001b[0m\u001b[0mimg_out\u001b[0m\u001b[0;34m)\u001b[0m\u001b[0;34m\u001b[0m\u001b[0m\n\u001b[0m",
      "\u001b[0;31merror\u001b[0m: OpenCV(3.4.3) /Users/travis/build/skvark/opencv-python/opencv/modules/imgproc/src/connectedcomponents.cpp:3927: error: (-215:Assertion failed) L.channels() == 1 && I.channels() == 1 in function 'connectedComponents_sub1'\n"
     ]
    }
   ],
   "source": [
    "\n",
    "img_out = cv2.threshold(img_out, 127, 255, cv2.THRESH_BINARY)[1]  # ensure binary\n",
    "ret, labels = cv2.connectedComponents(img_out)\n",
    "\n"
   ]
  },
  {
   "cell_type": "code",
   "execution_count": null,
   "metadata": {},
   "outputs": [],
   "source": [
    "# Map component labels to hue val\n",
    "label_hue = np.uint8(179*labels/np.max(labels))\n",
    "blank_ch = 255*np.ones_like(label_hue)\n",
    "labeled_img = cv2.merge([label_hue, blank_ch, blank_ch])\n",
    "\n",
    "# cvt to BGR for display\n",
    "labeled_img = cv2.cvtColor(labeled_img, cv2.COLOR_HSV2BGR)\n",
    "\n",
    "# set bg label to black\n",
    "labeled_img[label_hue==0] = 0\n",
    "\n",
    "cv2.imshow('labeled.png', labeled_img)\n",
    "cv2.waitKey()"
   ]
  },
  {
   "cell_type": "code",
   "execution_count": null,
   "metadata": {},
   "outputs": [],
   "source": [
    "#方案2 扩展\n",
    "# extend_size = 3\n",
    "# for data in datas:\n",
    "#     x,y = data\n",
    "#     for i in range(extend_size):\n",
    "#         datas.append([x + i, y + i])\n",
    "    \n",
    "# datas_duplicate = np.array(datas)   \n",
    "# datas = np.unique(datas_duplicate, axis=0)\n",
    "# len(datas)"
   ]
  },
  {
   "cell_type": "code",
   "execution_count": null,
   "metadata": {},
   "outputs": [],
   "source": [
    "# 方案3 color select in mask\n",
    "# lower = np.array([100])\n",
    "# upper = np.array([225])\n",
    "# shapeMask = cv2.inRange(gray, lower, upper)\n",
    "\n",
    "# # cv2.imshow(\"obj shapeMask\", shapeMask)\n",
    "# shapeMask_file = os.path.join(OUTPUTPATH, '%s_mask.png' % INPUT_IMG)\n",
    "# plt.imshow(shapeMask)\n",
    "# cv2.imwrite(shapeMask_file, shapeMask)"
   ]
  },
  {
   "cell_type": "code",
   "execution_count": null,
   "metadata": {},
   "outputs": [],
   "source": []
  },
  {
   "cell_type": "code",
   "execution_count": null,
   "metadata": {},
   "outputs": [],
   "source": []
  },
  {
   "cell_type": "code",
   "execution_count": null,
   "metadata": {},
   "outputs": [],
   "source": []
  },
  {
   "cell_type": "code",
   "execution_count": null,
   "metadata": {},
   "outputs": [],
   "source": []
  }
 ],
 "metadata": {
  "kernelspec": {
   "display_name": "Python 3",
   "language": "python",
   "name": "python3"
  },
  "language_info": {
   "codemirror_mode": {
    "name": "ipython",
    "version": 3
   },
   "file_extension": ".py",
   "mimetype": "text/x-python",
   "name": "python",
   "nbconvert_exporter": "python",
   "pygments_lexer": "ipython3",
   "version": "3.6.5"
  }
 },
 "nbformat": 4,
 "nbformat_minor": 2
}
